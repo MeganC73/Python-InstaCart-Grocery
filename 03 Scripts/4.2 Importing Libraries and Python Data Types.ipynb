{
 "cells": [
  {
   "cell_type": "markdown",
   "id": "418504b4",
   "metadata": {},
   "source": [
    "# Import Libraries"
   ]
  },
  {
   "cell_type": "code",
   "execution_count": 1,
   "id": "eada5c7c",
   "metadata": {},
   "outputs": [],
   "source": [
    "# Import libraries\n",
    "import pandas as pd \n",
    "import numpy as np \n",
    "import os"
   ]
  },
  {
   "cell_type": "markdown",
   "id": "4e060ca2",
   "metadata": {},
   "source": [
    "# Data Types"
   ]
  },
  {
   "cell_type": "code",
   "execution_count": 2,
   "id": "c367d784",
   "metadata": {},
   "outputs": [],
   "source": [
    "x = 2"
   ]
  },
  {
   "cell_type": "code",
   "execution_count": 3,
   "id": "74d6f8cb",
   "metadata": {},
   "outputs": [
    {
     "data": {
      "text/plain": [
       "2"
      ]
     },
     "execution_count": 3,
     "metadata": {},
     "output_type": "execute_result"
    }
   ],
   "source": [
    "x"
   ]
  },
  {
   "cell_type": "code",
   "execution_count": 4,
   "id": "390e92c3",
   "metadata": {},
   "outputs": [
    {
     "name": "stdout",
     "output_type": "stream",
     "text": [
      "2\n"
     ]
    }
   ],
   "source": [
    "print(x)"
   ]
  },
  {
   "cell_type": "code",
   "execution_count": 5,
   "id": "4919dd27",
   "metadata": {},
   "outputs": [
    {
     "data": {
      "text/plain": [
       "int"
      ]
     },
     "execution_count": 5,
     "metadata": {},
     "output_type": "execute_result"
    }
   ],
   "source": [
    "type(x)"
   ]
  },
  {
   "cell_type": "code",
   "execution_count": 6,
   "id": "02a4d4cc",
   "metadata": {},
   "outputs": [],
   "source": [
    "y = 5.678"
   ]
  },
  {
   "cell_type": "code",
   "execution_count": 7,
   "id": "97a21d96",
   "metadata": {},
   "outputs": [
    {
     "data": {
      "text/plain": [
       "float"
      ]
     },
     "execution_count": 7,
     "metadata": {},
     "output_type": "execute_result"
    }
   ],
   "source": [
    "type(y)"
   ]
  },
  {
   "cell_type": "code",
   "execution_count": 8,
   "id": "8235287a",
   "metadata": {},
   "outputs": [],
   "source": [
    "z = 'Brazil'"
   ]
  },
  {
   "cell_type": "code",
   "execution_count": 13,
   "id": "3f4b0a5b",
   "metadata": {},
   "outputs": [
    {
     "data": {
      "text/plain": [
       "bool"
      ]
     },
     "execution_count": 13,
     "metadata": {},
     "output_type": "execute_result"
    }
   ],
   "source": [
    "type(False)"
   ]
  },
  {
   "cell_type": "code",
   "execution_count": 15,
   "id": "8975627c",
   "metadata": {},
   "outputs": [
    {
     "data": {
      "text/plain": [
       "7.678"
      ]
     },
     "execution_count": 15,
     "metadata": {},
     "output_type": "execute_result"
    }
   ],
   "source": [
    "x + y"
   ]
  },
  {
   "cell_type": "code",
   "execution_count": 25,
   "id": "0928de04",
   "metadata": {},
   "outputs": [],
   "source": [
    "x = x + 4"
   ]
  },
  {
   "cell_type": "code",
   "execution_count": 26,
   "id": "b3983c96",
   "metadata": {},
   "outputs": [
    {
     "name": "stdout",
     "output_type": "stream",
     "text": [
      "6\n"
     ]
    }
   ],
   "source": [
    "print(x)"
   ]
  },
  {
   "cell_type": "code",
   "execution_count": 27,
   "id": "de855f94",
   "metadata": {},
   "outputs": [
    {
     "data": {
      "text/plain": [
       "False"
      ]
     },
     "execution_count": 27,
     "metadata": {},
     "output_type": "execute_result"
    }
   ],
   "source": [
    "x == y"
   ]
  },
  {
   "cell_type": "code",
   "execution_count": 28,
   "id": "39ac55f8",
   "metadata": {},
   "outputs": [
    {
     "data": {
      "text/plain": [
       "bool"
      ]
     },
     "execution_count": 28,
     "metadata": {},
     "output_type": "execute_result"
    }
   ],
   "source": [
    "type(x == y)"
   ]
  },
  {
   "cell_type": "markdown",
   "id": "a535b480",
   "metadata": {},
   "source": [
    "# Code 3 different ways of reaching a result of 100 by adding or subtracting numeric variables"
   ]
  },
  {
   "cell_type": "code",
   "execution_count": 30,
   "id": "d477c272",
   "metadata": {},
   "outputs": [],
   "source": [
    "a = 20"
   ]
  },
  {
   "cell_type": "code",
   "execution_count": 31,
   "id": "79fd85fb",
   "metadata": {},
   "outputs": [],
   "source": [
    "b = 5"
   ]
  },
  {
   "cell_type": "code",
   "execution_count": 32,
   "id": "da245316",
   "metadata": {},
   "outputs": [
    {
     "data": {
      "text/plain": [
       "100"
      ]
     },
     "execution_count": 32,
     "metadata": {},
     "output_type": "execute_result"
    }
   ],
   "source": [
    "a * b"
   ]
  },
  {
   "cell_type": "code",
   "execution_count": 33,
   "id": "41ae6272",
   "metadata": {},
   "outputs": [],
   "source": [
    "c = 500"
   ]
  },
  {
   "cell_type": "code",
   "execution_count": 34,
   "id": "b4f24f90",
   "metadata": {},
   "outputs": [
    {
     "data": {
      "text/plain": [
       "100.0"
      ]
     },
     "execution_count": 34,
     "metadata": {},
     "output_type": "execute_result"
    }
   ],
   "source": [
    "c / b"
   ]
  },
  {
   "cell_type": "code",
   "execution_count": 35,
   "id": "d70af422",
   "metadata": {},
   "outputs": [
    {
     "data": {
      "text/plain": [
       "100.0"
      ]
     },
     "execution_count": 35,
     "metadata": {},
     "output_type": "execute_result"
    }
   ],
   "source": [
    "c / a + 75"
   ]
  },
  {
   "cell_type": "markdown",
   "id": "1ad94035",
   "metadata": {},
   "source": [
    "# Code 2 floating-point variables and divide them by each other"
   ]
  },
  {
   "cell_type": "code",
   "execution_count": 36,
   "id": "961a087b",
   "metadata": {},
   "outputs": [],
   "source": [
    "d = 61.5"
   ]
  },
  {
   "cell_type": "code",
   "execution_count": 37,
   "id": "77ee8dd6",
   "metadata": {},
   "outputs": [],
   "source": [
    "e = 3.25"
   ]
  },
  {
   "cell_type": "code",
   "execution_count": 38,
   "id": "a70c0b75",
   "metadata": {},
   "outputs": [
    {
     "data": {
      "text/plain": [
       "18.923076923076923"
      ]
     },
     "execution_count": 38,
     "metadata": {},
     "output_type": "execute_result"
    }
   ],
   "source": [
    "d / e"
   ]
  },
  {
   "cell_type": "markdown",
   "id": "f2a918ea",
   "metadata": {},
   "source": [
    "# Construct a short word made of separate strings"
   ]
  },
  {
   "cell_type": "code",
   "execution_count": 39,
   "id": "2f003682",
   "metadata": {},
   "outputs": [],
   "source": [
    "f = 's'"
   ]
  },
  {
   "cell_type": "code",
   "execution_count": 40,
   "id": "f9d0831a",
   "metadata": {},
   "outputs": [],
   "source": [
    "g = 't'"
   ]
  },
  {
   "cell_type": "code",
   "execution_count": 41,
   "id": "43d6f480",
   "metadata": {},
   "outputs": [],
   "source": [
    "h = 'a'"
   ]
  },
  {
   "cell_type": "code",
   "execution_count": 42,
   "id": "896a9b8a",
   "metadata": {},
   "outputs": [],
   "source": [
    "i = 'r'"
   ]
  },
  {
   "cell_type": "code",
   "execution_count": 43,
   "id": "0465fe41",
   "metadata": {},
   "outputs": [
    {
     "data": {
      "text/plain": [
       "'star'"
      ]
     },
     "execution_count": 43,
     "metadata": {},
     "output_type": "execute_result"
    }
   ],
   "source": [
    "f + g + h + i"
   ]
  },
  {
   "cell_type": "markdown",
   "id": "42a31ab1",
   "metadata": {},
   "source": [
    "# Construct 2 short sentences made of separate strings."
   ]
  },
  {
   "cell_type": "code",
   "execution_count": 44,
   "id": "c3602518",
   "metadata": {},
   "outputs": [],
   "source": [
    "j = 'I '"
   ]
  },
  {
   "cell_type": "code",
   "execution_count": 45,
   "id": "0c97d7e3",
   "metadata": {},
   "outputs": [],
   "source": [
    "k = 'like '"
   ]
  },
  {
   "cell_type": "code",
   "execution_count": 46,
   "id": "d26c628c",
   "metadata": {},
   "outputs": [],
   "source": [
    "l = 'pizza.'"
   ]
  },
  {
   "cell_type": "code",
   "execution_count": 47,
   "id": "dd112347",
   "metadata": {},
   "outputs": [
    {
     "data": {
      "text/plain": [
       "'I like pizza.'"
      ]
     },
     "execution_count": 47,
     "metadata": {},
     "output_type": "execute_result"
    }
   ],
   "source": [
    "j + k + l"
   ]
  },
  {
   "cell_type": "code",
   "execution_count": 50,
   "id": "bae60b28",
   "metadata": {},
   "outputs": [],
   "source": [
    "m = 'Argentina.'"
   ]
  },
  {
   "cell_type": "code",
   "execution_count": 51,
   "id": "ece3695c",
   "metadata": {},
   "outputs": [
    {
     "data": {
      "text/plain": [
       "'I like Argentina.'"
      ]
     },
     "execution_count": 51,
     "metadata": {},
     "output_type": "execute_result"
    }
   ],
   "source": [
    "j + k + m"
   ]
  },
  {
   "cell_type": "markdown",
   "id": "37e93872",
   "metadata": {},
   "source": [
    "# At the bottom of your file, include a command that makes a string appear 100 times."
   ]
  },
  {
   "cell_type": "code",
   "execution_count": 52,
   "id": "9c90b130",
   "metadata": {},
   "outputs": [],
   "source": [
    "n = 'hot'"
   ]
  },
  {
   "cell_type": "code",
   "execution_count": 53,
   "id": "76a1562e",
   "metadata": {},
   "outputs": [
    {
     "data": {
      "text/plain": [
       "'hothothothothothothothothothothothothothothothothothothothothothothothothothothothothothothothothothothothothothothothothothothothothothothothothothothothothothothothothothothothothothothothothothothothothothothothothothothothothothothothothothothothothothothothothothothothothothothothothothothothot'"
      ]
     },
     "execution_count": 53,
     "metadata": {},
     "output_type": "execute_result"
    }
   ],
   "source": [
    "n * 100"
   ]
  },
  {
   "cell_type": "code",
   "execution_count": null,
   "id": "3f7ad013",
   "metadata": {},
   "outputs": [],
   "source": []
  }
 ],
 "metadata": {
  "kernelspec": {
   "display_name": "Python 3 (ipykernel)",
   "language": "python",
   "name": "python3"
  },
  "language_info": {
   "codemirror_mode": {
    "name": "ipython",
    "version": 3
   },
   "file_extension": ".py",
   "mimetype": "text/x-python",
   "name": "python",
   "nbconvert_exporter": "python",
   "pygments_lexer": "ipython3",
   "version": "3.9.13"
  }
 },
 "nbformat": 4,
 "nbformat_minor": 5
}
